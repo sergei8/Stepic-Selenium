{
 "cells": [
  {
   "cell_type": "markdown",
   "id": "2e683cf0",
   "metadata": {},
   "source": [
    "### Задание: составные сообщения об ошибках"
   ]
  },
  {
   "cell_type": "code",
   "execution_count": 2,
   "id": "c1f22a86",
   "metadata": {},
   "outputs": [],
   "source": [
    "def test_input_text(expected_result, actual_result):\n",
    "    assert expected_result == actual_result, f'expected {expected_result}, got {actual_result}'"
   ]
  },
  {
   "cell_type": "code",
   "execution_count": 4,
   "id": "8c534f9b",
   "metadata": {},
   "outputs": [],
   "source": [
    "test_input_text(11,11)"
   ]
  },
  {
   "cell_type": "markdown",
   "id": "6e74242c",
   "metadata": {},
   "source": [
    "### Задание: составные сообщения об ошибках и поиск подстроки"
   ]
  },
  {
   "cell_type": "code",
   "execution_count": 5,
   "id": "4e5443a9",
   "metadata": {},
   "outputs": [],
   "source": [
    "def test_substring(full_string, substring):\n",
    "    assert substring in full_string, f\"expected {substring} to be substring of {full_string}\""
   ]
  },
  {
   "cell_type": "code",
   "execution_count": 7,
   "id": "653f1772",
   "metadata": {},
   "outputs": [],
   "source": [
    "test_substring(\"1\", \"1\")"
   ]
  },
  {
   "cell_type": "markdown",
   "id": "47cc81bd",
   "metadata": {},
   "source": [
    "### Задание: вывод PyTest "
   ]
  },
  {
   "cell_type": "code",
   "execution_count": 13,
   "id": "b9bfe14a",
   "metadata": {},
   "outputs": [],
   "source": [
    "from selenium import webdriver\n",
    "from selenium.webdriver.common.by import By\n",
    "import time\n",
    "\n",
    "try:\n",
    "    link = \"http://suninjuly.github.io/registration2.html\"\n",
    "    browser = webdriver.Chrome()\n",
    "    browser.get(link)\n",
    "\n",
    "    # Ваш код, который заполняет обязательные поля\n",
    "    input1 = browser.find_element(By.CLASS_NAME, 'first')\n",
    "    input1.send_keys(\"Ivan\")\n",
    "    input2 = browser.find_element(By.CLASS_NAME, 'second')\n",
    "    input2.send_keys(\"Ivanov\")\n",
    "    input3 = browser.find_element(By.CLASS_NAME, 'third')\n",
    "    input3.send_keys(\"email.com\")\n",
    "\n",
    "    # Отправляем заполненную форму\n",
    "    button = browser.find_element(By.CSS_SELECTOR, \"button.btn\")\n",
    "    button.click()\n",
    "\n",
    "    # Проверяем, что смогли зарегистрироваться\n",
    "    # ждем загрузки страницы\n",
    "    time.sleep(1)\n",
    "\n",
    "    # находим элемент, содержащий текст\n",
    "    welcome_text_elt = browser.find_element(By.TAG_NAME, \"h1\")\n",
    "    # записываем в переменную welcome_text текст из элемента welcome_text_elt\n",
    "    welcome_text = welcome_text_elt.text\n",
    "\n",
    "    # с помощью assert проверяем, что ожидаемый текст совпадает с текстом на странице сайта\n",
    "    assert \"Congratulations! You have successfully registered!\" == welcome_text\n",
    "\n",
    "finally:\n",
    "    # ожидание чтобы визуально оценить результаты прохождения скрипта\n",
    "    time.sleep(5)\n",
    "    # закрываем браузер после всех манипуляций\n",
    "    browser.quit()"
   ]
  },
  {
   "cell_type": "code",
   "execution_count": 15,
   "id": "88558cad",
   "metadata": {},
   "outputs": [],
   "source": [
    "import pytest\n",
    "\n",
    "from selenium import webdriver\n",
    "from selenium.webdriver.common.by import By\n",
    "from selenium.common.exceptions import NoSuchElementException\n",
    "\n",
    "\n",
    "def test_exception1():\n",
    "    try:\n",
    "        browser = webdriver.Chrome()\n",
    "        browser.get(\"http://selenium1py.pythonanywhere.com/\")\n",
    "        with pytest.raises(NoSuchElementException):\n",
    "            browser.find_element(By.CSS_SELECTOR, \"button.btn\")\n",
    "            pytest.fail(\"Не должно быть кнопки Отправить\")\n",
    "    finally: \n",
    "        browser.quit()\n",
    "\n",
    "def test_exception2():\n",
    "    try:\n",
    "        browser = webdriver.Chrome()\n",
    "        browser.get(\"http://selenium1py.pythonanywhere.com/\")\n",
    "        with pytest.raises(NoSuchElementException):\n",
    "            browser.find_element(By.CSS_SELECTOR, \"no_such_button.btn\")\n",
    "            pytest.fail(\"Не должно быть кнопки Отправить\")\n",
    "    finally: \n",
    "        browser.quit()\n"
   ]
  },
  {
   "cell_type": "code",
   "execution_count": 17,
   "id": "ef9ba245",
   "metadata": {},
   "outputs": [],
   "source": [
    "test_exception2()"
   ]
  },
  {
   "cell_type": "code",
   "execution_count": null,
   "id": "3637be3c",
   "metadata": {},
   "outputs": [],
   "source": []
  }
 ],
 "metadata": {
  "kernelspec": {
   "display_name": "Python 3 (ipykernel)",
   "language": "python",
   "name": "python3"
  },
  "language_info": {
   "codemirror_mode": {
    "name": "ipython",
    "version": 3
   },
   "file_extension": ".py",
   "mimetype": "text/x-python",
   "name": "python",
   "nbconvert_exporter": "python",
   "pygments_lexer": "ipython3",
   "version": "3.9.12"
  },
  "varInspector": {
   "cols": {
    "lenName": 16,
    "lenType": 16,
    "lenVar": 40
   },
   "kernels_config": {
    "python": {
     "delete_cmd_postfix": "",
     "delete_cmd_prefix": "del ",
     "library": "var_list.py",
     "varRefreshCmd": "print(var_dic_list())"
    },
    "r": {
     "delete_cmd_postfix": ") ",
     "delete_cmd_prefix": "rm(",
     "library": "var_list.r",
     "varRefreshCmd": "cat(var_dic_list()) "
    }
   },
   "types_to_exclude": [
    "module",
    "function",
    "builtin_function_or_method",
    "instance",
    "_Feature"
   ],
   "window_display": false
  }
 },
 "nbformat": 4,
 "nbformat_minor": 5
}
