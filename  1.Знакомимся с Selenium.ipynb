{
 "cells": [
  {
   "cell_type": "code",
   "execution_count": 1,
   "id": "829c114a",
   "metadata": {},
   "outputs": [],
   "source": [
    "import time"
   ]
  },
  {
   "cell_type": "code",
   "execution_count": 3,
   "id": "9d430db2",
   "metadata": {},
   "outputs": [],
   "source": [
    "from selenium import webdriver"
   ]
  },
  {
   "cell_type": "code",
   "execution_count": 4,
   "id": "e2d73c42",
   "metadata": {},
   "outputs": [
    {
     "name": "stdout",
     "output_type": "stream",
     "text": [
      "Python 3.9.12\r\n"
     ]
    }
   ],
   "source": [
    "!python --version"
   ]
  },
  {
   "cell_type": "code",
   "execution_count": 5,
   "id": "25723ccd",
   "metadata": {},
   "outputs": [],
   "source": [
    "# импортируем класс By, который позволяет выбрать способ поиска элемента\n",
    "from selenium.webdriver.common.by import By"
   ]
  },
  {
   "cell_type": "code",
   "execution_count": 6,
   "id": "61c400a2",
   "metadata": {},
   "outputs": [],
   "source": [
    "# инициализируем драйвер браузера. После этой команды вы должны увидеть новое открытое окно браузера\n",
    "driver = webdriver.Chrome()"
   ]
  },
  {
   "cell_type": "code",
   "execution_count": 8,
   "id": "66d31aed",
   "metadata": {},
   "outputs": [],
   "source": [
    "# команда time.sleep устанавливает паузу в 5 секунд, чтобы мы успели увидеть, что происходит в браузере\n",
    "time.sleep(5)"
   ]
  },
  {
   "cell_type": "code",
   "execution_count": 9,
   "id": "7efd8080",
   "metadata": {},
   "outputs": [],
   "source": [
    "# Метод get сообщает браузеру, что нужно открыть сайт по указанной ссылке\n",
    "driver.get(\"https://stepik.org/lesson/25969/step/12\")\n",
    "time.sleep(5)"
   ]
  },
  {
   "cell_type": "code",
   "execution_count": 10,
   "id": "0a8e1da9",
   "metadata": {},
   "outputs": [],
   "source": [
    "# Метод find_element позволяет найти нужный элемент на сайте, указав путь к нему. Способы поиска элементов мы обсудим позже\n",
    "# Метод принимает в качестве аргументов способ поиска и значение, по которому мы будем искать\n",
    "# Ищем поле для ввода текста\n",
    "textarea = driver.find_element(By.CSS_SELECTOR, \".textarea\")"
   ]
  },
  {
   "cell_type": "code",
   "execution_count": 11,
   "id": "5a114fd1",
   "metadata": {},
   "outputs": [],
   "source": [
    "# Напишем текст ответа в найденное поле\n",
    "textarea.send_keys(\"get()\")\n",
    "time.sleep(5)"
   ]
  },
  {
   "cell_type": "code",
   "execution_count": 14,
   "id": "ea250642",
   "metadata": {},
   "outputs": [],
   "source": [
    "# Найдем кнопку, которая отправляет введенное решение\n",
    "submit_button = driver.find_element(By.CSS_SELECTOR, \".submit-submission\")"
   ]
  },
  {
   "cell_type": "code",
   "execution_count": 15,
   "id": "707bda82",
   "metadata": {},
   "outputs": [],
   "source": [
    "# Скажем драйверу, что нужно нажать на кнопку. После этой команды мы должны увидеть сообщение о правильном ответе\n",
    "submit_button.click()\n",
    "time.sleep(5)"
   ]
  },
  {
   "cell_type": "code",
   "execution_count": 16,
   "id": "ee440931",
   "metadata": {},
   "outputs": [],
   "source": [
    "# После выполнения всех действий мы должны не забыть закрыть окно браузера\n",
    "driver.quit()"
   ]
  },
  {
   "cell_type": "code",
   "execution_count": null,
   "id": "9be26b19",
   "metadata": {},
   "outputs": [],
   "source": []
  }
 ],
 "metadata": {
  "kernelspec": {
   "display_name": "Python 3 (ipykernel)",
   "language": "python",
   "name": "python3"
  },
  "language_info": {
   "codemirror_mode": {
    "name": "ipython",
    "version": 3
   },
   "file_extension": ".py",
   "mimetype": "text/x-python",
   "name": "python",
   "nbconvert_exporter": "python",
   "pygments_lexer": "ipython3",
   "version": "3.9.12"
  },
  "varInspector": {
   "cols": {
    "lenName": 16,
    "lenType": 16,
    "lenVar": 40
   },
   "kernels_config": {
    "python": {
     "delete_cmd_postfix": "",
     "delete_cmd_prefix": "del ",
     "library": "var_list.py",
     "varRefreshCmd": "print(var_dic_list())"
    },
    "r": {
     "delete_cmd_postfix": ") ",
     "delete_cmd_prefix": "rm(",
     "library": "var_list.r",
     "varRefreshCmd": "cat(var_dic_list()) "
    }
   },
   "types_to_exclude": [
    "module",
    "function",
    "builtin_function_or_method",
    "instance",
    "_Feature"
   ],
   "window_display": false
  }
 },
 "nbformat": 4,
 "nbformat_minor": 5
}
