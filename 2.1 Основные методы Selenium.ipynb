{
 "cells": [
  {
   "cell_type": "markdown",
   "id": "7c63340b",
   "metadata": {
    "heading_collapsed": true
   },
   "source": [
    "## Основные методы Selenium"
   ]
  },
  {
   "cell_type": "code",
   "execution_count": 47,
   "id": "cada6e80",
   "metadata": {
    "hidden": true
   },
   "outputs": [],
   "source": [
    "from selenium import webdriver\n",
    "from selenium.webdriver.common.by import By\n",
    "from time import sleep\n",
    "import math"
   ]
  },
  {
   "cell_type": "markdown",
   "id": "c467f27f",
   "metadata": {
    "heading_collapsed": true,
    "hidden": true
   },
   "source": [
    "### Задание: кликаем по checkboxes и radiobuttons (капча для роботов)\n",
    "\n",
    "Ваша программа должна выполнить следующие шаги:\n",
    "\n",
    "1. Открыть страницу https://suninjuly.github.io/math.html.\n",
    "2. Считать значение для переменной x.\n",
    "3. Посчитать математическую функцию от x (код для этого приведён ниже).\n",
    "4. Ввести ответ в текстовое поле.\n",
    "5. Отметить checkbox \"I'm the robot\".\n",
    "6. Выбрать radiobutton \"Robots rule!\".\n",
    "7. Нажать на кнопку Submit.\n"
   ]
  },
  {
   "cell_type": "code",
   "execution_count": 36,
   "id": "4b3000a1",
   "metadata": {
    "hidden": true
   },
   "outputs": [],
   "source": [
    "driver = webdriver.Chrome()\n",
    "driver.maximize_window()\n",
    "\n",
    "driver.get('https://suninjuly.github.io/math.html')\n",
    "\n",
    "x = int(driver.find_element(By.ID, \"input_value\").text)\n",
    "\n",
    "y = math.log(abs(12*math.sin(x)))\n",
    "\n",
    "answer = driver.find_element(By.ID, \"answer\")\n",
    "\n",
    "answer.send_keys(str(y))\n",
    "\n",
    "i_am = driver.find_element(By.ID, \"robotCheckbox\")\n",
    "i_am.click()\n",
    "\n",
    "rule = driver.find_element(By.ID, \"robotsRule\")\n",
    "rule.click()\n",
    "\n",
    "submit = driver.find_element(By.TAG_NAME, \"button\")\n",
    "submit.click()\n",
    "\n",
    "sleep(10)\n",
    "\n",
    "driver.quit()"
   ]
  },
  {
   "cell_type": "markdown",
   "id": "42d9831f",
   "metadata": {
    "heading_collapsed": true,
    "hidden": true
   },
   "source": [
    "### Задание: поиск сокровища с помощью get_attribute\n",
    "\n",
    "Ваша программа должна:\n",
    "\n",
    "1. Открыть страницу http://suninjuly.github.io/get_attribute.html.\n",
    "2. Найти на ней элемент-картинку, который является изображением сундука с сокровищами.\n",
    "3. Взять у этого элемента значение атрибута valuex, которое является значением x для задачи.\n",
    "4. Посчитать математическую функцию от x (сама функция остаётся неизменной).\n",
    "5. Ввести ответ в текстовое поле.\n",
    "6. Отметить checkbox \"I'm the robot\".\n",
    "7. Выбрать radiobutton \"Robots rule!\".\n",
    "8. Нажать на кнопку \"Submit\"."
   ]
  },
  {
   "cell_type": "code",
   "execution_count": 46,
   "id": "2143c93d",
   "metadata": {
    "hidden": true
   },
   "outputs": [],
   "source": [
    "driver = webdriver.Chrome()\n",
    "driver.maximize_window()\n",
    "\n",
    "driver.get('http://suninjuly.github.io/get_attribute.html')\n",
    "\n",
    "treasure = driver.find_element(By.ID, \"treasure\")\n",
    "\n",
    "x = int(treasure.get_attribute(\"valuex\"))\n",
    "\n",
    "y = math.log(abs(12*math.sin(x)))\n",
    "\n",
    "answer = driver.find_element(By.ID, \"answer\")\n",
    "\n",
    "answer.send_keys(str(y))\n",
    "\n",
    "i_am = driver.find_element(By.ID, \"robotCheckbox\")\n",
    "i_am.click()\n",
    "\n",
    "rule = driver.find_element(By.ID, \"robotsRule\")\n",
    "rule.click()\n",
    "\n",
    "submit = driver.find_element(By.TAG_NAME, \"button\")\n",
    "submit.click()\n",
    "\n",
    "sleep(10)\n",
    "\n",
    "driver.quit()"
   ]
  },
  {
   "cell_type": "markdown",
   "id": "897195d1",
   "metadata": {
    "heading_collapsed": true,
    "hidden": true
   },
   "source": [
    "### Задание: работа с выпадающим списком\n",
    "\n",
    "Напишите код, который реализует следующий сценарий:\n",
    "\n",
    "1. Открыть страницу http://suninjuly.github.io/selects1.html\n",
    "2. Посчитать сумму заданных чисел\n",
    "3. Выбрать в выпадающем списке значение равное расчитанной сумме\n",
    "4. Нажать кнопку \"Submit\""
   ]
  },
  {
   "cell_type": "code",
   "execution_count": 75,
   "id": "df723d6c",
   "metadata": {
    "hidden": true
   },
   "outputs": [],
   "source": [
    "driver = webdriver.Chrome()\n",
    "driver.get('http://suninjuly.github.io/selects1.html')\n",
    "\n",
    "driver.maximize_window()\n",
    "\n",
    "num1 = int(driver.find_element(By.ID, 'num1').text)\n",
    "num2 = int(driver.find_element(By.ID, 'num2').text)\n",
    "sum = num1 + num2\n",
    "\n",
    "driver.find_element(By.CSS_SELECTOR, \"select\").click()\n",
    "driver.find_element(By.CSS_SELECTOR, f'[value=\"{str(sum)}\"]').click()\n",
    "\n",
    "driver.find_element(By.TAG_NAME, 'button').click()\n",
    "\n",
    "sleep(10)\n",
    "driver.quit()"
   ]
  },
  {
   "cell_type": "markdown",
   "id": "39aadfa7",
   "metadata": {
    "heading_collapsed": true,
    "hidden": true
   },
   "source": [
    "### Задание на execute_script\n",
    "\n",
    "написать код, чтобы:\n",
    "\n",
    "1. Открыть страницу http://SunInJuly.github.io/execute_script.html.\n",
    "2. Считать значение для переменной x.\n",
    "3. Посчитать математическую функцию от x.\n",
    "4. Проскроллить страницу вниз.\n",
    "5. Ввести ответ в текстовое поле.\n",
    "6. Выбрать checkbox \"I'm the robot\".\n",
    "7. Переключить radiobutton \"Robots rule!\".\n",
    "8. Нажать на кнопку \"Submit\"."
   ]
  },
  {
   "cell_type": "code",
   "execution_count": 102,
   "id": "e6e2b237",
   "metadata": {
    "hidden": true
   },
   "outputs": [],
   "source": [
    "driver = webdriver.Chrome()\n",
    "driver.get('http://suninjuly.github.io/execute_script.html')\n",
    "\n",
    "driver.maximize_window()\n",
    "\n",
    "x = int(driver.find_element(By.ID, \"input_value\").text)\n",
    "\n",
    "y = str(math.log(abs(12 * math.sin(x))))\n",
    "\n",
    "driver.find_element(By.ID, 'answer').send_keys(y)\n",
    "\n",
    "check_box = driver.find_element(By.ID, 'robotCheckbox')\n",
    "driver.execute_script('return arguments[0].scrollIntoView(true);', check_box)\n",
    "\n",
    "driver.find_element(By.ID, 'robotCheckbox').click()\n",
    "driver.find_element(By.ID, 'robotsRule').click()\n",
    "\n",
    "button = driver.find_element(By.TAG_NAME, 'button')\n",
    "button.click()\n",
    "\n",
    "sleep(10)\n",
    "driver.quit()"
   ]
  },
  {
   "cell_type": "markdown",
   "id": "69e305eb",
   "metadata": {
    "heading_collapsed": true
   },
   "source": [
    "##  Работа с файлами, списками и js-скриптами"
   ]
  },
  {
   "cell_type": "markdown",
   "id": "12d49f43",
   "metadata": {
    "hidden": true
   },
   "source": [
    "### Задание: загрузка файла\n",
    "\n",
    "Напишите скрипт, который будет выполнять следующий сценарий:\n",
    "\n",
    "1. Открыть страницу http://suninjuly.github.io/file_input.html\n",
    "2. Заполнить текстовые поля: имя, фамилия, email\n",
    "3. Загрузить файл. Файл должен иметь расширение .txt и может быть пустым\n",
    "4. Нажать кнопку \"Submit\"\n"
   ]
  },
  {
   "cell_type": "code",
   "execution_count": 106,
   "id": "0505138e",
   "metadata": {
    "hidden": true
   },
   "outputs": [],
   "source": [
    "!touch bla-bla.txt"
   ]
  },
  {
   "cell_type": "code",
   "execution_count": 137,
   "id": "05a1f6ad",
   "metadata": {
    "hidden": true
   },
   "outputs": [],
   "source": [
    "import os\n",
    "driver = webdriver.Chrome()\n",
    "driver.get('http://suninjuly.github.io/file_input.html')\n",
    "driver.maximize_window()\n",
    "\n",
    "for name in ['firstname', 'lastname', 'email']:\n",
    "    driver.find_element(By.CSS_SELECTOR, f'[name=\"{name}\"]').send_keys('bla-bla')\n",
    "\n",
    "file_path = f\"{os.getcwd()}/bla-bla.txt\"\n",
    "\n",
    "driver.find_element(By.CSS_SELECTOR, '[type=file]').send_keys(file_path)\n",
    "\n",
    "driver.find_element(By.TAG_NAME, 'button').click()\n",
    "\n",
    "sleep(10)\n",
    "driver.quit()"
   ]
  },
  {
   "cell_type": "markdown",
   "id": "d046cda3",
   "metadata": {},
   "source": [
    "## Работа с окнами"
   ]
  },
  {
   "cell_type": "markdown",
   "id": "252dcb6b",
   "metadata": {},
   "source": [
    "### Задание: принимаем alert\n",
    "\n",
    "1. Открыть страницу http://suninjuly.github.io/alert_accept.html\n",
    "2. Нажать на кнопку\n",
    "3. Принять confirm\n",
    "4. На новой странице решить капчу для роботов, чтобы получить число с ответом"
   ]
  },
  {
   "cell_type": "code",
   "execution_count": 154,
   "id": "2941930f",
   "metadata": {},
   "outputs": [],
   "source": [
    "driver = webdriver.Chrome()\n",
    "driver.get(\"http://suninjuly.github.io/alert_accept.html\")\n",
    "\n",
    "driver.find_element(By.TAG_NAME, 'button').click()\n",
    "\n",
    "alert = driver.switch_to.alert\n",
    "alert.accept()\n",
    "\n",
    "sleep(2)\n",
    "\n",
    "x = int(driver.find_element(By.ID, 'input_value').text)\n",
    "\n",
    "y = str(math.log(abs(12 * math.sin(x))))\n",
    "\n",
    "driver.find_element(By.TAG_NAME, 'input').send_keys(y)\n",
    "\n",
    "driver.find_element(By.TAG_NAME, 'button').click()\n",
    "\n",
    "sleep(10)\n",
    "\n",
    "driver.quit()"
   ]
  },
  {
   "cell_type": "markdown",
   "id": "728aede7",
   "metadata": {},
   "source": [
    "### Задание: переход на новую вкладку\n",
    "\n",
    "1. Открыть страницу http://suninjuly.github.io/redirect_accept.html\n",
    "2. Нажать на кнопку\n",
    "3. Переключиться на новую вкладку\n",
    "4. Пройти капчу для робота и получить число-ответ\n"
   ]
  },
  {
   "cell_type": "code",
   "execution_count": 167,
   "id": "44602ca4",
   "metadata": {},
   "outputs": [],
   "source": [
    "driver = webdriver.Chrome()\n",
    "driver.get('http://suninjuly.github.io/redirect_accept.html')\n",
    "driver.maximize_window()\n",
    "\n",
    "driver.find_element(By.TAG_NAME,'button').click()\n",
    "sleep(2)\n",
    "\n",
    "driver.switch_to.window(driver.window_handles[1])\n",
    "\n",
    "x = int(driver.find_element(By.ID, 'input_value').text)\n",
    "\n",
    "y = str(math.log(abs(12 * math.sin(x))))\n",
    "\n",
    "driver.find_element(By.TAG_NAME, 'input').send_keys(y)\n",
    "\n",
    "driver.find_element(By.TAG_NAME, 'button').click()\n",
    "\n",
    "sleep(10)\n",
    "\n",
    "driver.quit()"
   ]
  },
  {
   "cell_type": "markdown",
   "id": "c02eddf5",
   "metadata": {},
   "source": [
    "## Настройка ожиданий"
   ]
  },
  {
   "cell_type": "code",
   "execution_count": 171,
   "id": "a5d6d095",
   "metadata": {},
   "outputs": [],
   "source": [
    "from selenium import webdriver\n",
    "from selenium.webdriver.common.by import By\n",
    "\n",
    "browser = webdriver.Chrome()\n",
    "browser.get(\"http://suninjuly.github.io/wait1.html\")\n",
    "\n",
    "browser.implicitly_wait(5)\n",
    "button = browser.find_element(By.ID, \"verify\")\n",
    "button.click()\n",
    "message = browser.find_element(By.ID, \"verify_message\")\n",
    "\n",
    "assert \"successful\" in message.text"
   ]
  },
  {
   "cell_type": "markdown",
   "id": "71bb4604",
   "metadata": {},
   "source": [
    "## Задание: Про Exceptions\n",
    "\n",
    "Какую ошибку вы увидите в консоли, если попытаетесь выполнить команду browser.find_element(By.ID, \"button\") после открытия страницы http://suninjuly.github.io/cats.html?"
   ]
  },
  {
   "cell_type": "code",
   "execution_count": 172,
   "id": "6bc935ff",
   "metadata": {
    "collapsed": true
   },
   "outputs": [
    {
     "ename": "NoSuchElementException",
     "evalue": "Message: no such element: Unable to locate element: {\"method\":\"css selector\",\"selector\":\"[id=\"button\"]\"}\n  (Session info: chrome=105.0.5195.102)\n",
     "output_type": "error",
     "traceback": [
      "\u001b[0;31m---------------------------------------------------------------------------\u001b[0m",
      "\u001b[0;31mNoSuchElementException\u001b[0m                    Traceback (most recent call last)",
      "Input \u001b[0;32mIn [172]\u001b[0m, in \u001b[0;36m<cell line: 4>\u001b[0;34m()\u001b[0m\n\u001b[1;32m      2\u001b[0m driver\u001b[38;5;241m.\u001b[39mget(\u001b[38;5;124m'\u001b[39m\u001b[38;5;124mhttp://suninjuly.github.io/cats.html\u001b[39m\u001b[38;5;124m'\u001b[39m)\n\u001b[1;32m      3\u001b[0m driver\u001b[38;5;241m.\u001b[39mmaximize_window()\n\u001b[0;32m----> 4\u001b[0m \u001b[43mdriver\u001b[49m\u001b[38;5;241;43m.\u001b[39;49m\u001b[43mfind_element\u001b[49m\u001b[43m(\u001b[49m\u001b[43mBy\u001b[49m\u001b[38;5;241;43m.\u001b[39;49m\u001b[43mID\u001b[49m\u001b[43m,\u001b[49m\u001b[43m \u001b[49m\u001b[38;5;124;43m\"\u001b[39;49m\u001b[38;5;124;43mbutton\u001b[39;49m\u001b[38;5;124;43m\"\u001b[39;49m\u001b[43m)\u001b[49m\n",
      "File \u001b[0;32m~/opt/miniconda3/envs/py39/lib/python3.9/site-packages/selenium/webdriver/remote/webdriver.py:976\u001b[0m, in \u001b[0;36mWebDriver.find_element\u001b[0;34m(self, by, value)\u001b[0m\n\u001b[1;32m    974\u001b[0m         by \u001b[38;5;241m=\u001b[39m By\u001b[38;5;241m.\u001b[39mCSS_SELECTOR\n\u001b[1;32m    975\u001b[0m         value \u001b[38;5;241m=\u001b[39m \u001b[38;5;124m'\u001b[39m\u001b[38;5;124m[name=\u001b[39m\u001b[38;5;124m\"\u001b[39m\u001b[38;5;132;01m%s\u001b[39;00m\u001b[38;5;124m\"\u001b[39m\u001b[38;5;124m]\u001b[39m\u001b[38;5;124m'\u001b[39m \u001b[38;5;241m%\u001b[39m value\n\u001b[0;32m--> 976\u001b[0m \u001b[38;5;28;01mreturn\u001b[39;00m \u001b[38;5;28;43mself\u001b[39;49m\u001b[38;5;241;43m.\u001b[39;49m\u001b[43mexecute\u001b[49m\u001b[43m(\u001b[49m\u001b[43mCommand\u001b[49m\u001b[38;5;241;43m.\u001b[39;49m\u001b[43mFIND_ELEMENT\u001b[49m\u001b[43m,\u001b[49m\u001b[43m \u001b[49m\u001b[43m{\u001b[49m\n\u001b[1;32m    977\u001b[0m \u001b[43m    \u001b[49m\u001b[38;5;124;43m'\u001b[39;49m\u001b[38;5;124;43musing\u001b[39;49m\u001b[38;5;124;43m'\u001b[39;49m\u001b[43m:\u001b[49m\u001b[43m \u001b[49m\u001b[43mby\u001b[49m\u001b[43m,\u001b[49m\n\u001b[1;32m    978\u001b[0m \u001b[43m    \u001b[49m\u001b[38;5;124;43m'\u001b[39;49m\u001b[38;5;124;43mvalue\u001b[39;49m\u001b[38;5;124;43m'\u001b[39;49m\u001b[43m:\u001b[49m\u001b[43m \u001b[49m\u001b[43mvalue\u001b[49m\u001b[43m}\u001b[49m\u001b[43m)\u001b[49m[\u001b[38;5;124m'\u001b[39m\u001b[38;5;124mvalue\u001b[39m\u001b[38;5;124m'\u001b[39m]\n",
      "File \u001b[0;32m~/opt/miniconda3/envs/py39/lib/python3.9/site-packages/selenium/webdriver/remote/webdriver.py:321\u001b[0m, in \u001b[0;36mWebDriver.execute\u001b[0;34m(self, driver_command, params)\u001b[0m\n\u001b[1;32m    319\u001b[0m response \u001b[38;5;241m=\u001b[39m \u001b[38;5;28mself\u001b[39m\u001b[38;5;241m.\u001b[39mcommand_executor\u001b[38;5;241m.\u001b[39mexecute(driver_command, params)\n\u001b[1;32m    320\u001b[0m \u001b[38;5;28;01mif\u001b[39;00m response:\n\u001b[0;32m--> 321\u001b[0m     \u001b[38;5;28;43mself\u001b[39;49m\u001b[38;5;241;43m.\u001b[39;49m\u001b[43merror_handler\u001b[49m\u001b[38;5;241;43m.\u001b[39;49m\u001b[43mcheck_response\u001b[49m\u001b[43m(\u001b[49m\u001b[43mresponse\u001b[49m\u001b[43m)\u001b[49m\n\u001b[1;32m    322\u001b[0m     response[\u001b[38;5;124m'\u001b[39m\u001b[38;5;124mvalue\u001b[39m\u001b[38;5;124m'\u001b[39m] \u001b[38;5;241m=\u001b[39m \u001b[38;5;28mself\u001b[39m\u001b[38;5;241m.\u001b[39m_unwrap_value(\n\u001b[1;32m    323\u001b[0m         response\u001b[38;5;241m.\u001b[39mget(\u001b[38;5;124m'\u001b[39m\u001b[38;5;124mvalue\u001b[39m\u001b[38;5;124m'\u001b[39m, \u001b[38;5;28;01mNone\u001b[39;00m))\n\u001b[1;32m    324\u001b[0m     \u001b[38;5;28;01mreturn\u001b[39;00m response\n",
      "File \u001b[0;32m~/opt/miniconda3/envs/py39/lib/python3.9/site-packages/selenium/webdriver/remote/errorhandler.py:242\u001b[0m, in \u001b[0;36mErrorHandler.check_response\u001b[0;34m(self, response)\u001b[0m\n\u001b[1;32m    240\u001b[0m         alert_text \u001b[38;5;241m=\u001b[39m value[\u001b[38;5;124m'\u001b[39m\u001b[38;5;124malert\u001b[39m\u001b[38;5;124m'\u001b[39m]\u001b[38;5;241m.\u001b[39mget(\u001b[38;5;124m'\u001b[39m\u001b[38;5;124mtext\u001b[39m\u001b[38;5;124m'\u001b[39m)\n\u001b[1;32m    241\u001b[0m     \u001b[38;5;28;01mraise\u001b[39;00m exception_class(message, screen, stacktrace, alert_text)\n\u001b[0;32m--> 242\u001b[0m \u001b[38;5;28;01mraise\u001b[39;00m exception_class(message, screen, stacktrace)\n",
      "\u001b[0;31mNoSuchElementException\u001b[0m: Message: no such element: Unable to locate element: {\"method\":\"css selector\",\"selector\":\"[id=\"button\"]\"}\n  (Session info: chrome=105.0.5195.102)\n"
     ]
    }
   ],
   "source": [
    "driver = webdriver.Chrome()\n",
    "driver.get('http://suninjuly.github.io/cats.html')\n",
    "driver.maximize_window()\n",
    "driver.find_element(By.ID, \"button\") "
   ]
  },
  {
   "cell_type": "code",
   "execution_count": 174,
   "id": "395a6cc0",
   "metadata": {},
   "outputs": [],
   "source": [
    "from selenium.webdriver.common.by import By\n",
    "\n",
    "from selenium.webdriver.support.ui import WebDriverWait\n",
    "from selenium.webdriver.support import expected_conditions as EC\n",
    "\n",
    "from selenium import webdriver\n",
    "\n",
    "browser = webdriver.Chrome()\n",
    "\n",
    "browser.get(\"http://suninjuly.github.io/wait2.html\")\n",
    "\n",
    "# говорим Selenium проверять в течение 5 секунд, пока кнопка не станет кликабельной\n",
    "button = WebDriverWait(browser, 5).until(\n",
    "        EC.element_to_be_clickable((By.ID, \"verify\"))\n",
    "    )\n",
    "button.click()\n",
    "message = browser.find_element(By.ID, \"verify_message\")\n",
    "\n",
    "assert \"successful\" in message.text"
   ]
  },
  {
   "cell_type": "markdown",
   "id": "2923760e",
   "metadata": {},
   "source": [
    "В объекте WebDriverWait используется функция __until__, в которую передается правило ожидания, элемент, а также значение, по которому мы будем искать элемент. В модуле expected_conditions есть много других правил, которые позволяют реализовать необходимые ожидания:\n",
    "\n",
    "- title_is\n",
    "- title_contains\n",
    "- presence_of_element_located\n",
    "- visibility_of_element_located\n",
    "- visibility_of\n",
    "- presence_of_all_elements_located\n",
    "- text_to_be_present_in_element\n",
    "- text_to_be_present_in_element_value\n",
    "- frame_to_be_available_and_switch_to_it\n",
    "- invisibility_of_element_located\n",
    "- element_to_be_clickable\n",
    "- staleness_of\n",
    "- element_to_be_selected\n",
    "- element_located_to_be_selected\n",
    "- element_selection_state_to_be\n",
    "- element_located_selection_state_to_be\n",
    "- alert_is_present\n",
    "\n",
    "Описание каждого правила можно найти на [сайте](https://selenium-python.readthedocs.io/api.html#module-selenium.webdriver.support.expected_conditions).\n",
    "\n"
   ]
  },
  {
   "cell_type": "markdown",
   "id": "80c797e5",
   "metadata": {},
   "source": [
    "### Задание: ждем нужный текст на странице\n",
    "\n",
    "нужно написать программу, которая будет выполнять следующий сценарий:\n",
    "\n",
    "1. Открыть страницу http://suninjuly.github.io/explicit_wait2.html\n",
    "2. Дождаться, когда цена дома уменьшится до $100 (ожидание нужно установить не меньше 12 секунд)\n",
    "3. Нажать на кнопку \"Book\"\n",
    "4. Решить уже известную нам математическую задачу (используйте ранее написанный код) \n"
   ]
  },
  {
   "cell_type": "code",
   "execution_count": 176,
   "id": "5a259fe4",
   "metadata": {},
   "outputs": [],
   "source": [
    "from selenium.webdriver.support.ui import WebDriverWait\n",
    "from selenium.webdriver.support import expected_conditions as EC"
   ]
  },
  {
   "cell_type": "code",
   "execution_count": 193,
   "id": "39f0f75c",
   "metadata": {},
   "outputs": [],
   "source": [
    "driver = webdriver.Chrome()\n",
    "driver.get('http://suninjuly.github.io/explicit_wait2.html')\n",
    "# driver.maximize_window()\n",
    "\n",
    "WebDriverWait(driver,12).until(EC.text_to_be_present_in_element((By.ID, 'price'), '$100'))\n",
    "\n",
    "driver.find_element(By.TAG_NAME, 'button').click()\n",
    "\n",
    "x = int(driver.find_element(By.ID, 'input_value').text)\n",
    "\n",
    "y = str(math.log(abs(12 * math.sin(x))))\n",
    "\n",
    "driver.find_element(By.TAG_NAME, 'input').send_keys(y)\n",
    "\n",
    "driver.find_element(By.ID, 'solve').click()\n",
    "\n",
    "sleep(10)\n",
    "\n",
    "driver.quit()\n"
   ]
  },
  {
   "cell_type": "code",
   "execution_count": null,
   "id": "12c2c6a9",
   "metadata": {},
   "outputs": [],
   "source": []
  }
 ],
 "metadata": {
  "kernelspec": {
   "display_name": "Python 3 (ipykernel)",
   "language": "python",
   "name": "python3"
  },
  "language_info": {
   "codemirror_mode": {
    "name": "ipython",
    "version": 3
   },
   "file_extension": ".py",
   "mimetype": "text/x-python",
   "name": "python",
   "nbconvert_exporter": "python",
   "pygments_lexer": "ipython3",
   "version": "3.9.12"
  },
  "varInspector": {
   "cols": {
    "lenName": 16,
    "lenType": 16,
    "lenVar": 40
   },
   "kernels_config": {
    "python": {
     "delete_cmd_postfix": "",
     "delete_cmd_prefix": "del ",
     "library": "var_list.py",
     "varRefreshCmd": "print(var_dic_list())"
    },
    "r": {
     "delete_cmd_postfix": ") ",
     "delete_cmd_prefix": "rm(",
     "library": "var_list.r",
     "varRefreshCmd": "cat(var_dic_list()) "
    }
   },
   "types_to_exclude": [
    "module",
    "function",
    "builtin_function_or_method",
    "instance",
    "_Feature"
   ],
   "window_display": false
  }
 },
 "nbformat": 4,
 "nbformat_minor": 5
}
