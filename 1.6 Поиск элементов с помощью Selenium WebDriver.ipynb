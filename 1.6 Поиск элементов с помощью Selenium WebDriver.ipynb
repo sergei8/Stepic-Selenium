{
 "cells": [
  {
   "cell_type": "code",
   "execution_count": 1,
   "id": "6e655569",
   "metadata": {},
   "outputs": [],
   "source": [
    "from selenium import webdriver\n",
    "from selenium.webdriver.common.by import By"
   ]
  },
  {
   "cell_type": "code",
   "execution_count": 3,
   "id": "578947dd",
   "metadata": {},
   "outputs": [],
   "source": [
    "browser = webdriver.Chrome()\n",
    "browser.get(\"http://suninjuly.github.io/simple_form_find_task.html\")\n",
    "button = browser.find_element(By.ID, \"submit_button\")"
   ]
  },
  {
   "cell_type": "code",
   "execution_count": 9,
   "id": "aab0765e",
   "metadata": {},
   "outputs": [],
   "source": [
    "browser.quit()"
   ]
  },
  {
   "cell_type": "code",
   "execution_count": 5,
   "id": "2d6ccd6b",
   "metadata": {},
   "outputs": [],
   "source": [
    "browser = webdriver.Chrome()"
   ]
  },
  {
   "cell_type": "code",
   "execution_count": 8,
   "id": "71076b69",
   "metadata": {
    "collapsed": true
   },
   "outputs": [
    {
     "name": "stdout",
     "output_type": "stream",
     "text": [
      "['__abstractmethods__', '__class__', '__delattr__', '__dict__', '__dir__', '__doc__', '__enter__', '__eq__', '__exit__', '__format__', '__ge__', '__getattribute__', '__gt__', '__hash__', '__init__', '__init_subclass__', '__le__', '__lt__', '__module__', '__ne__', '__new__', '__reduce__', '__reduce_ex__', '__repr__', '__setattr__', '__sizeof__', '__str__', '__subclasshook__', '__weakref__', '_abc_impl', '_authenticator_id', '_file_detector', '_get_cdp_details', '_is_remote', '_mobile', '_shadowroot_cls', '_switch_to', '_unwrap_value', '_web_element_cls', '_wrap_value', 'add_cookie', 'add_credential', 'add_virtual_authenticator', 'application_cache', 'back', 'bidi_connection', 'capabilities', 'caps', 'close', 'command_executor', 'create_options', 'create_web_element', 'current_url', 'current_window_handle', 'delete_all_cookies', 'delete_cookie', 'delete_network_conditions', 'desired_capabilities', 'error_handler', 'execute', 'execute_async_script', 'execute_cdp_cmd', 'execute_script', 'file_detector', 'file_detector_context', 'find_element', 'find_elements', 'forward', 'fullscreen_window', 'get', 'get_cookie', 'get_cookies', 'get_credentials', 'get_issue_message', 'get_log', 'get_network_conditions', 'get_pinned_scripts', 'get_screenshot_as_base64', 'get_screenshot_as_file', 'get_screenshot_as_png', 'get_sinks', 'get_window_position', 'get_window_rect', 'get_window_size', 'implicitly_wait', 'launch_app', 'log_types', 'maximize_window', 'minimize_window', 'mobile', 'name', 'orientation', 'page_source', 'pin_script', 'pinned_scripts', 'port', 'print_page', 'quit', 'refresh', 'remove_all_credentials', 'remove_credential', 'remove_virtual_authenticator', 'save_screenshot', 'service', 'session_id', 'set_network_conditions', 'set_page_load_timeout', 'set_permissions', 'set_script_timeout', 'set_sink_to_use', 'set_user_verified', 'set_window_position', 'set_window_rect', 'set_window_size', 'start_client', 'start_desktop_mirroring', 'start_session', 'start_tab_mirroring', 'stop_casting', 'stop_client', 'switch_to', 'timeouts', 'title', 'unpin', 'vendor_prefix', 'virtual_authenticator_id', 'window_handles']\n"
     ]
    }
   ],
   "source": [
    "print(dir(browser))"
   ]
  },
  {
   "cell_type": "markdown",
   "id": "ee77dec2",
   "metadata": {
    "heading_collapsed": true
   },
   "source": [
    "### Задание: поиск элементов с помощью Selenium\n",
    "\n",
    "Вам нужно открыть страницу по [ссылке](http://suninjuly.github.io/simple_form_find_task.html) и заполнить форму на этой странице с помощью Selenium. Если всё сделано правильно, то вы увидите окно с проверочным кодом. Это число вам нужно ввести в качестве ответа в этой задаче."
   ]
  },
  {
   "cell_type": "code",
   "execution_count": 10,
   "id": "5d90f1c5",
   "metadata": {
    "hidden": true
   },
   "outputs": [],
   "source": [
    "from selenium import webdriver\n",
    "from selenium.webdriver.common.by import By\n",
    "import time "
   ]
  },
  {
   "cell_type": "code",
   "execution_count": 11,
   "id": "881cc13f",
   "metadata": {
    "hidden": true
   },
   "outputs": [],
   "source": [
    "link = \"http://suninjuly.github.io/simple_form_find_task.html\""
   ]
  },
  {
   "cell_type": "code",
   "execution_count": 29,
   "id": "bf67fcca",
   "metadata": {
    "hidden": true
   },
   "outputs": [],
   "source": [
    "browser = webdriver.Chrome()\n",
    "browser.get(link)\n",
    "\n",
    "input1 = browser.find_element(By.NAME, \"first_name\")\n",
    "input1.send_keys(\"Ivan\")\n",
    "\n",
    "input2 = browser.find_element(By.NAME, \"last_name\")\n",
    "input2.send_keys(\"Petrov\")\n",
    "\n",
    "input3 = browser.find_element(By.CLASS_NAME, \"city\")\n",
    "input3.send_keys(\"Smolensk\")\n",
    "\n",
    "input4 = browser.find_element(By.ID, \"country\")\n",
    "input4.send_keys(\"Russia\")\n",
    "\n",
    "submit = browser.find_element(By.ID, \"submit_button\")\n",
    "submit.click()\n",
    "time.sleep(30)"
   ]
  },
  {
   "cell_type": "code",
   "execution_count": 55,
   "id": "d4d828f3",
   "metadata": {
    "hidden": true
   },
   "outputs": [],
   "source": [
    "browser.quit()"
   ]
  },
  {
   "cell_type": "markdown",
   "id": "c2e2fde1",
   "metadata": {},
   "source": [
    "### Задание: поиск элемента по тексту в ссылке\n",
    "\n",
    "На указанной ниже странице вам нужно найти зашифрованную ссылку и кликнуть по ней:\n",
    "\n",
    "Добавьте в самый верх своего кода import math\n",
    "Добавьте в код команду, которая откроет страницу: http://suninjuly.github.io/find_link_text\n",
    "\n",
    "Добавьте команду, которая найдет ссылку с текстом. Текст ссылки, который нужно найти, зашифрован формулой: \n",
    "\n",
    "```str(math.ceil(math.pow(math.pi, math.e)*10000))```\n"
   ]
  },
  {
   "cell_type": "code",
   "execution_count": 31,
   "id": "239119fe",
   "metadata": {},
   "outputs": [],
   "source": [
    "import math"
   ]
  },
  {
   "cell_type": "code",
   "execution_count": 56,
   "id": "5bb77abd",
   "metadata": {},
   "outputs": [],
   "source": [
    "browser = webdriver.Chrome()\n",
    "browser.get(\"http://suninjuly.github.io/find_link_text\")\n",
    "\n",
    "text = str(math.ceil(math.pow(math.pi, math.e)*10000))\n",
    "\n",
    "chipher = browser.find_element(By.LINK_TEXT, \"224592\")\n",
    "\n",
    "chipher.click()\n",
    "\n",
    "input1 = browser.find_element(By.NAME, \"first_name\")\n",
    "input1.send_keys(\"Ivan\")\n",
    "\n",
    "input2 = browser.find_element(By.NAME, \"last_name\")\n",
    "input2.send_keys(\"Petrov\")\n",
    "\n",
    "input3 = browser.find_element(By.CLASS_NAME, \"city\")\n",
    "input3.send_keys(\"Smolensk\")\n",
    "\n",
    "input4 = browser.find_element(By.ID, \"country\")\n",
    "input4.send_keys(\"Russia\")\n",
    "\n",
    "submit = browser.find_element(By.CLASS_NAME, \"btn-default\")\n",
    "submit.click()\n",
    "time.sleep(30)"
   ]
  },
  {
   "cell_type": "code",
   "execution_count": 68,
   "id": "670e1d03",
   "metadata": {},
   "outputs": [],
   "source": [
    "browser.quit()"
   ]
  },
  {
   "cell_type": "markdown",
   "id": "92387f02",
   "metadata": {},
   "source": [
    "### Задание: использование метода find_elements\n",
    "\n",
    "В этой задаче вам нужно заполнить форму (http://suninjuly.github.io/huge_form.html). С помощью неё отдел маркетинга компании N захотел собрать подробную информацию о пользователях своего продукта. В награду за заполнение формы становится доступен код на скидку. Но маркетологи явно переусердствовали, добавив в форму 100 обязательных полей и ограничив время на ее заполнение. Теперь эта задача под силу только роботам"
   ]
  },
  {
   "cell_type": "code",
   "execution_count": 66,
   "id": "7e21cf22",
   "metadata": {},
   "outputs": [],
   "source": [
    "browser = webdriver.Chrome()\n",
    "browser.get(\"http://suninjuly.github.io/huge_form.html\")\n",
    "\n",
    "inputs = browser.find_elements(By.TAG_NAME, \"input\")\n",
    "\n",
    "for input in inputs:\n",
    "    input.send_keys(\"bla-bla\")\n",
    "\n",
    "browser.find_element(By.TAG_NAME, \"button\").click()\n",
    "time.sleep(30)\n",
    "\n",
    "browser.quit()"
   ]
  },
  {
   "cell_type": "markdown",
   "id": "21e5f527",
   "metadata": {
    "heading_collapsed": true
   },
   "source": [
    "### Задание: поиск элемента по XPath\n",
    "\n",
    "На странице http://suninjuly.github.io/find_xpath_form вы найдете такую же форму регистрации, как в шаге 3, при этом в нее добавилась куча одинаковых кнопок отправки. Но сработает только кнопка с текстом \"Submit\", и наша задача нажать в коде именно на неё. "
   ]
  },
  {
   "cell_type": "code",
   "execution_count": 69,
   "id": "f7ce07ad",
   "metadata": {
    "hidden": true
   },
   "outputs": [],
   "source": [
    "browser = webdriver.Chrome()\n",
    "browser.get(\"http://suninjuly.github.io/find_xpath_form\")\n",
    "\n",
    "inputs = browser.find_elements(By.TAG_NAME, \"input\")\n",
    "\n",
    "for input in inputs:\n",
    "    input.send_keys(\"bla-bla\")\n",
    "\n",
    "submit = browser.find_element(By.XPATH, \"//button[text()='Submit']\")\n",
    "\n",
    "submit.click()\n",
    "time.sleep(30)\n",
    "\n",
    "browser.quit()"
   ]
  },
  {
   "cell_type": "markdown",
   "id": "f325a867",
   "metadata": {},
   "source": [
    "### Уникальность селекторов: часть 2\n",
    "\n",
    "Вам дана [страница](http://suninjuly.github.io/registration1.html) с формой регистрации.\n",
    "Проверьте, что можно зарегистрироваться на сайте, заполнив только обязательные поля, отмеченные символом *: `First name`, `last name`, `email`. Текст для полей может быть любым. Успешность регистрации проверяется сравнением ожидаемого текста \"__Congratulations! You have successfully registered!__\" с текстом на странице, которая открывается после регистрации. Для сравнения воспользуемся стандартной конструкцией assert из языка Python."
   ]
  },
  {
   "cell_type": "code",
   "execution_count": 72,
   "id": "4381e5bf",
   "metadata": {},
   "outputs": [],
   "source": [
    "from selenium import webdriver\n",
    "from selenium.webdriver.common.by import By\n",
    "import time\n",
    "\n",
    "try: \n",
    "    link = \"http://suninjuly.github.io/registration1.html\"\n",
    "    browser = webdriver.Chrome()\n",
    "    browser.get(link)\n",
    "\n",
    "    # Ваш код, который заполняет обязательные поля\n",
    "    required_block = browser.find_element(By.CLASS_NAME, \"first_block\")\n",
    "    \n",
    "    inputs = required_block.find_elements(By.TAG_NAME, \"input\")\n",
    "    \n",
    "    for input in inputs:\n",
    "        input.send_keys(\"bla-bla\")\n",
    "        \n",
    "    time.sleep(5)\n",
    "\n",
    "    # Отправляем заполненную форму\n",
    "    button = browser.find_element(By.CSS_SELECTOR, \"button.btn\")\n",
    "    button.click()\n",
    "\n",
    "    # Проверяем, что смогли зарегистрироваться\n",
    "    # ждем загрузки страницы\n",
    "    time.sleep(1)\n",
    "\n",
    "    # находим элемент, содержащий текст\n",
    "    welcome_text_elt = browser.find_element(By.TAG_NAME, \"h1\")\n",
    "    # записываем в переменную welcome_text текст из элемента welcome_text_elt\n",
    "    welcome_text = welcome_text_elt.text\n",
    "\n",
    "    # с помощью assert проверяем, что ожидаемый текст совпадает с текстом на странице сайта\n",
    "    assert \"Congratulations! You have successfully registered!\" == welcome_text\n",
    "\n",
    "finally:\n",
    "    # ожидание чтобы визуально оценить результаты прохождения скрипта\n",
    "    time.sleep(10)\n",
    "    # закрываем браузер после всех манипуляций\n",
    "    browser.quit()"
   ]
  },
  {
   "cell_type": "markdown",
   "id": "c4f389e6",
   "metadata": {},
   "source": [
    "### Задание: уникальность селекторов"
   ]
  },
  {
   "cell_type": "code",
   "execution_count": 80,
   "id": "6f411ac0",
   "metadata": {},
   "outputs": [],
   "source": [
    "from selenium import webdriver\n",
    "from selenium.webdriver.common.by import By\n",
    "from selenium.common.exceptions import NoSuchElementException\n",
    "import time\n",
    "\n",
    "try: \n",
    "    link = \"http://suninjuly.github.io/registration1.html\"\n",
    "    browser = webdriver.Chrome()\n",
    "    browser.get(link)\n",
    "\n",
    "    # Ваш код, который заполняет обязательные поля\n",
    "    required_block = browser.find_element(By.CLASS_NAME, \"first_block\")\n",
    "    \n",
    "    inputs = required_block.find_elements(By.TAG_NAME, \"input\")\n",
    "    \n",
    "    if len(inputs) != 3:\n",
    "        raise NoSuchElementException\n",
    "    \n",
    "    for input in inputs:\n",
    "        input.send_keys(\"bla-bla\")\n",
    "           \n",
    "    time.sleep(5)\n",
    "\n",
    "    # Отправляем заполненную форму\n",
    "    button = browser.find_element(By.CSS_SELECTOR, \"button.btn\")\n",
    "    button.click()\n",
    "\n",
    "    # Проверяем, что смогли зарегистрироваться\n",
    "    # ждем загрузки страницы\n",
    "    time.sleep(1)\n",
    "\n",
    "    # находим элемент, содержащий текст\n",
    "    welcome_text_elt = browser.find_element(By.TAG_NAME, \"h1\")\n",
    "    # записываем в переменную welcome_text текст из элемента welcome_text_elt\n",
    "    welcome_text = welcome_text_elt.text\n",
    "\n",
    "    # с помощью assert проверяем, что ожидаемый текст совпадает с текстом на странице сайта\n",
    "    assert \"Congratulations! You have successfully registered!\" == welcome_text\n",
    "\n",
    "finally:\n",
    "    # ожидание чтобы визуально оценить результаты прохождения скрипта\n",
    "    time.sleep(10)\n",
    "    # закрываем браузер после всех манипуляций\n",
    "    browser.quit()"
   ]
  },
  {
   "cell_type": "code",
   "execution_count": null,
   "id": "0cfc6ead",
   "metadata": {},
   "outputs": [],
   "source": [
    "from selenium import webdriver\n",
    "from selenium.webdriver.common.by import By\n",
    "import time\n",
    "\n",
    "link = \"http://suninjuly.github.io/registration2.html\"\n",
    "\n",
    "try:\n",
    "    browser = webdriver.Chrome()\n",
    "    browser.get(link)\n",
    "    input1 = browser.find_element(By.XPATH, \"//input[contains(@placeholder, 'first')]\")\n",
    "    input1.send_keys(\"Ivan\")\n",
    "    input2 = browser.find_element(By.XPATH, \"//input[contains(@placeholder, 'last')]\")\n",
    "    input2.send_keys(\"Petrov\")\n",
    "    input3 = browser.find_element(By.XPATH, '//input[@class=\"form-control third\"]')\n",
    "    input3.send_keys(\"pipa@mail.ru\")\n",
    "    button = browser.find_element(By.XPATH, \"//button[@type='submit']\")\n",
    "    button.click()\n",
    "\n",
    "\n",
    "finally:\n",
    "    time.sleep(30)\n",
    "    browser.quit()\n"
   ]
  }
 ],
 "metadata": {
  "kernelspec": {
   "display_name": "Python 3 (ipykernel)",
   "language": "python",
   "name": "python3"
  },
  "language_info": {
   "codemirror_mode": {
    "name": "ipython",
    "version": 3
   },
   "file_extension": ".py",
   "mimetype": "text/x-python",
   "name": "python",
   "nbconvert_exporter": "python",
   "pygments_lexer": "ipython3",
   "version": "3.9.12"
  },
  "varInspector": {
   "cols": {
    "lenName": 16,
    "lenType": 16,
    "lenVar": 40
   },
   "kernels_config": {
    "python": {
     "delete_cmd_postfix": "",
     "delete_cmd_prefix": "del ",
     "library": "var_list.py",
     "varRefreshCmd": "print(var_dic_list())"
    },
    "r": {
     "delete_cmd_postfix": ") ",
     "delete_cmd_prefix": "rm(",
     "library": "var_list.r",
     "varRefreshCmd": "cat(var_dic_list()) "
    }
   },
   "types_to_exclude": [
    "module",
    "function",
    "builtin_function_or_method",
    "instance",
    "_Feature"
   ],
   "window_display": false
  }
 },
 "nbformat": 4,
 "nbformat_minor": 5
}
