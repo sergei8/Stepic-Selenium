{
 "cells": [
  {
   "cell_type": "markdown",
   "id": "9a1cb04b",
   "metadata": {
    "heading_collapsed": true
   },
   "source": [
    "## Основные методы Selenium"
   ]
  },
  {
   "cell_type": "code",
   "execution_count": 47,
   "id": "cada6e80",
   "metadata": {
    "hidden": true
   },
   "outputs": [],
   "source": [
    "from selenium import webdriver\n",
    "from selenium.webdriver.common.by import By\n",
    "from time import sleep\n",
    "import math"
   ]
  },
  {
   "cell_type": "markdown",
   "id": "c467f27f",
   "metadata": {
    "heading_collapsed": true,
    "hidden": true
   },
   "source": [
    "### Задание: кликаем по checkboxes и radiobuttons (капча для роботов)\n",
    "\n",
    "Ваша программа должна выполнить следующие шаги:\n",
    "\n",
    "1. Открыть страницу https://suninjuly.github.io/math.html.\n",
    "2. Считать значение для переменной x.\n",
    "3. Посчитать математическую функцию от x (код для этого приведён ниже).\n",
    "4. Ввести ответ в текстовое поле.\n",
    "5. Отметить checkbox \"I'm the robot\".\n",
    "6. Выбрать radiobutton \"Robots rule!\".\n",
    "7. Нажать на кнопку Submit.\n"
   ]
  },
  {
   "cell_type": "code",
   "execution_count": 36,
   "id": "4b3000a1",
   "metadata": {
    "hidden": true
   },
   "outputs": [],
   "source": [
    "driver = webdriver.Chrome()\n",
    "driver.maximize_window()\n",
    "\n",
    "driver.get('https://suninjuly.github.io/math.html')\n",
    "\n",
    "x = int(driver.find_element(By.ID, \"input_value\").text)\n",
    "\n",
    "y = math.log(abs(12*math.sin(x)))\n",
    "\n",
    "answer = driver.find_element(By.ID, \"answer\")\n",
    "\n",
    "answer.send_keys(str(y))\n",
    "\n",
    "i_am = driver.find_element(By.ID, \"robotCheckbox\")\n",
    "i_am.click()\n",
    "\n",
    "rule = driver.find_element(By.ID, \"robotsRule\")\n",
    "rule.click()\n",
    "\n",
    "submit = driver.find_element(By.TAG_NAME, \"button\")\n",
    "submit.click()\n",
    "\n",
    "sleep(10)\n",
    "\n",
    "driver.quit()"
   ]
  },
  {
   "cell_type": "markdown",
   "id": "42d9831f",
   "metadata": {
    "heading_collapsed": true,
    "hidden": true
   },
   "source": [
    "### Задание: поиск сокровища с помощью get_attribute\n",
    "\n",
    "Ваша программа должна:\n",
    "\n",
    "1. Открыть страницу http://suninjuly.github.io/get_attribute.html.\n",
    "2. Найти на ней элемент-картинку, который является изображением сундука с сокровищами.\n",
    "3. Взять у этого элемента значение атрибута valuex, которое является значением x для задачи.\n",
    "4. Посчитать математическую функцию от x (сама функция остаётся неизменной).\n",
    "5. Ввести ответ в текстовое поле.\n",
    "6. Отметить checkbox \"I'm the robot\".\n",
    "7. Выбрать radiobutton \"Robots rule!\".\n",
    "8. Нажать на кнопку \"Submit\"."
   ]
  },
  {
   "cell_type": "code",
   "execution_count": 46,
   "id": "2143c93d",
   "metadata": {
    "hidden": true
   },
   "outputs": [],
   "source": [
    "driver = webdriver.Chrome()\n",
    "driver.maximize_window()\n",
    "\n",
    "driver.get('http://suninjuly.github.io/get_attribute.html')\n",
    "\n",
    "treasure = driver.find_element(By.ID, \"treasure\")\n",
    "\n",
    "x = int(treasure.get_attribute(\"valuex\"))\n",
    "\n",
    "y = math.log(abs(12*math.sin(x)))\n",
    "\n",
    "answer = driver.find_element(By.ID, \"answer\")\n",
    "\n",
    "answer.send_keys(str(y))\n",
    "\n",
    "i_am = driver.find_element(By.ID, \"robotCheckbox\")\n",
    "i_am.click()\n",
    "\n",
    "rule = driver.find_element(By.ID, \"robotsRule\")\n",
    "rule.click()\n",
    "\n",
    "submit = driver.find_element(By.TAG_NAME, \"button\")\n",
    "submit.click()\n",
    "\n",
    "sleep(10)\n",
    "\n",
    "driver.quit()"
   ]
  },
  {
   "cell_type": "markdown",
   "id": "a68e9853",
   "metadata": {
    "heading_collapsed": true,
    "hidden": true
   },
   "source": [
    "### Задание: работа с выпадающим списком\n",
    "\n",
    "Напишите код, который реализует следующий сценарий:\n",
    "\n",
    "1. Открыть страницу http://suninjuly.github.io/selects1.html\n",
    "2. Посчитать сумму заданных чисел\n",
    "3. Выбрать в выпадающем списке значение равное расчитанной сумме\n",
    "4. Нажать кнопку \"Submit\""
   ]
  },
  {
   "cell_type": "code",
   "execution_count": 75,
   "id": "b38e39a3",
   "metadata": {
    "hidden": true
   },
   "outputs": [],
   "source": [
    "driver = webdriver.Chrome()\n",
    "driver.get('http://suninjuly.github.io/selects1.html')\n",
    "\n",
    "driver.maximize_window()\n",
    "\n",
    "num1 = int(driver.find_element(By.ID, 'num1').text)\n",
    "num2 = int(driver.find_element(By.ID, 'num2').text)\n",
    "sum = num1 + num2\n",
    "\n",
    "driver.find_element(By.CSS_SELECTOR, \"select\").click()\n",
    "driver.find_element(By.CSS_SELECTOR, f'[value=\"{str(sum)}\"]').click()\n",
    "\n",
    "driver.find_element(By.TAG_NAME, 'button').click()\n",
    "\n",
    "sleep(10)\n",
    "driver.quit()"
   ]
  },
  {
   "cell_type": "markdown",
   "id": "019e3e25",
   "metadata": {
    "heading_collapsed": true,
    "hidden": true
   },
   "source": [
    "### Задание на execute_script\n",
    "\n",
    "написать код, чтобы:\n",
    "\n",
    "1. Открыть страницу http://SunInJuly.github.io/execute_script.html.\n",
    "2. Считать значение для переменной x.\n",
    "3. Посчитать математическую функцию от x.\n",
    "4. Проскроллить страницу вниз.\n",
    "5. Ввести ответ в текстовое поле.\n",
    "6. Выбрать checkbox \"I'm the robot\".\n",
    "7. Переключить radiobutton \"Robots rule!\".\n",
    "8. Нажать на кнопку \"Submit\"."
   ]
  },
  {
   "cell_type": "code",
   "execution_count": 102,
   "id": "78f339ad",
   "metadata": {
    "hidden": true
   },
   "outputs": [],
   "source": [
    "driver = webdriver.Chrome()\n",
    "driver.get('http://suninjuly.github.io/execute_script.html')\n",
    "\n",
    "driver.maximize_window()\n",
    "\n",
    "x = int(driver.find_element(By.ID, \"input_value\").text)\n",
    "\n",
    "y = str(math.log(abs(12 * math.sin(x))))\n",
    "\n",
    "driver.find_element(By.ID, 'answer').send_keys(y)\n",
    "\n",
    "check_box = driver.find_element(By.ID, 'robotCheckbox')\n",
    "driver.execute_script('return arguments[0].scrollIntoView(true);', check_box)\n",
    "\n",
    "driver.find_element(By.ID, 'robotCheckbox').click()\n",
    "driver.find_element(By.ID, 'robotsRule').click()\n",
    "\n",
    "button = driver.find_element(By.TAG_NAME, 'button')\n",
    "button.click()\n",
    "\n",
    "sleep(10)\n",
    "driver.quit()"
   ]
  },
  {
   "cell_type": "markdown",
   "id": "f0464b2d",
   "metadata": {
    "heading_collapsed": true
   },
   "source": [
    "##  Работа с файлами, списками и js-скриптами"
   ]
  },
  {
   "cell_type": "markdown",
   "id": "07487ef6",
   "metadata": {
    "hidden": true
   },
   "source": [
    "### Задание: загрузка файла\n",
    "\n",
    "Напишите скрипт, который будет выполнять следующий сценарий:\n",
    "\n",
    "1. Открыть страницу http://suninjuly.github.io/file_input.html\n",
    "2. Заполнить текстовые поля: имя, фамилия, email\n",
    "3. Загрузить файл. Файл должен иметь расширение .txt и может быть пустым\n",
    "4. Нажать кнопку \"Submit\"\n"
   ]
  },
  {
   "cell_type": "code",
   "execution_count": 106,
   "id": "1cdb73d4",
   "metadata": {
    "hidden": true
   },
   "outputs": [],
   "source": [
    "!touch bla-bla.txt"
   ]
  },
  {
   "cell_type": "code",
   "execution_count": 137,
   "id": "1949f391",
   "metadata": {
    "hidden": true
   },
   "outputs": [],
   "source": [
    "import os\n",
    "driver = webdriver.Chrome()\n",
    "driver.get('http://suninjuly.github.io/file_input.html')\n",
    "driver.maximize_window()\n",
    "\n",
    "for name in ['firstname', 'lastname', 'email']:\n",
    "    driver.find_element(By.CSS_SELECTOR, f'[name=\"{name}\"]').send_keys('bla-bla')\n",
    "\n",
    "file_path = f\"{os.getcwd()}/bla-bla.txt\"\n",
    "\n",
    "driver.find_element(By.CSS_SELECTOR, '[type=file]').send_keys(file_path)\n",
    "\n",
    "driver.find_element(By.TAG_NAME, 'button').click()\n",
    "\n",
    "sleep(10)\n",
    "driver.quit()"
   ]
  },
  {
   "cell_type": "markdown",
   "id": "93475b5e",
   "metadata": {},
   "source": [
    "## Работа с окнами"
   ]
  },
  {
   "cell_type": "code",
   "execution_count": null,
   "id": "3af5b17c",
   "metadata": {},
   "outputs": [],
   "source": []
  }
 ],
 "metadata": {
  "kernelspec": {
   "display_name": "Python 3 (ipykernel)",
   "language": "python",
   "name": "python3"
  },
  "language_info": {
   "codemirror_mode": {
    "name": "ipython",
    "version": 3
   },
   "file_extension": ".py",
   "mimetype": "text/x-python",
   "name": "python",
   "nbconvert_exporter": "python",
   "pygments_lexer": "ipython3",
   "version": "3.9.12"
  },
  "varInspector": {
   "cols": {
    "lenName": 16,
    "lenType": 16,
    "lenVar": 40
   },
   "kernels_config": {
    "python": {
     "delete_cmd_postfix": "",
     "delete_cmd_prefix": "del ",
     "library": "var_list.py",
     "varRefreshCmd": "print(var_dic_list())"
    },
    "r": {
     "delete_cmd_postfix": ") ",
     "delete_cmd_prefix": "rm(",
     "library": "var_list.r",
     "varRefreshCmd": "cat(var_dic_list()) "
    }
   },
   "types_to_exclude": [
    "module",
    "function",
    "builtin_function_or_method",
    "instance",
    "_Feature"
   ],
   "window_display": false
  }
 },
 "nbformat": 4,
 "nbformat_minor": 5
}
